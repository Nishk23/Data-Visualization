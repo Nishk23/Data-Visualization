{
 "cells": [
  {
   "cell_type": "code",
   "execution_count": 1,
   "metadata": {},
   "outputs": [],
   "source": [
    "import pandas as pd\n",
    "import numpy as np"
   ]
  },
  {
   "cell_type": "code",
   "execution_count": 2,
   "metadata": {},
   "outputs": [],
   "source": [
    "p=pd.read_csv('input.csv', encoding = \"ISO-8859-1\")"
   ]
  },
  {
   "cell_type": "code",
   "execution_count": 3,
   "metadata": {},
   "outputs": [
    {
     "data": {
      "text/html": [
       "<div>\n",
       "<style scoped>\n",
       "    .dataframe tbody tr th:only-of-type {\n",
       "        vertical-align: middle;\n",
       "    }\n",
       "\n",
       "    .dataframe tbody tr th {\n",
       "        vertical-align: top;\n",
       "    }\n",
       "\n",
       "    .dataframe thead th {\n",
       "        text-align: right;\n",
       "    }\n",
       "</style>\n",
       "<table border=\"1\" class=\"dataframe\">\n",
       "  <thead>\n",
       "    <tr style=\"text-align: right;\">\n",
       "      <th></th>\n",
       "      <th>Area Code</th>\n",
       "      <th>Area</th>\n",
       "      <th>Item Code</th>\n",
       "      <th>Item</th>\n",
       "      <th>Element Code</th>\n",
       "      <th>Element</th>\n",
       "      <th>Year Code</th>\n",
       "      <th>Year</th>\n",
       "      <th>Unit</th>\n",
       "      <th>Value</th>\n",
       "      <th>Flag</th>\n",
       "    </tr>\n",
       "  </thead>\n",
       "  <tbody>\n",
       "    <tr>\n",
       "      <td>0</td>\n",
       "      <td>2</td>\n",
       "      <td>Afghanistan</td>\n",
       "      <td>4007</td>\n",
       "      <td>Ammonia, anhydrous</td>\n",
       "      <td>5610</td>\n",
       "      <td>Import Quantity</td>\n",
       "      <td>2011</td>\n",
       "      <td>2011</td>\n",
       "      <td>tonnes</td>\n",
       "      <td>4.49</td>\n",
       "      <td>R</td>\n",
       "    </tr>\n",
       "    <tr>\n",
       "      <td>1</td>\n",
       "      <td>2</td>\n",
       "      <td>Afghanistan</td>\n",
       "      <td>4007</td>\n",
       "      <td>Ammonia, anhydrous</td>\n",
       "      <td>5610</td>\n",
       "      <td>Import Quantity</td>\n",
       "      <td>2014</td>\n",
       "      <td>2014</td>\n",
       "      <td>tonnes</td>\n",
       "      <td>2.00</td>\n",
       "      <td>R</td>\n",
       "    </tr>\n",
       "    <tr>\n",
       "      <td>2</td>\n",
       "      <td>2</td>\n",
       "      <td>Afghanistan</td>\n",
       "      <td>4007</td>\n",
       "      <td>Ammonia, anhydrous</td>\n",
       "      <td>5610</td>\n",
       "      <td>Import Quantity</td>\n",
       "      <td>2017</td>\n",
       "      <td>2017</td>\n",
       "      <td>tonnes</td>\n",
       "      <td>2.07</td>\n",
       "      <td>R</td>\n",
       "    </tr>\n",
       "    <tr>\n",
       "      <td>3</td>\n",
       "      <td>2</td>\n",
       "      <td>Afghanistan</td>\n",
       "      <td>4007</td>\n",
       "      <td>Ammonia, anhydrous</td>\n",
       "      <td>5622</td>\n",
       "      <td>Import Value</td>\n",
       "      <td>2011</td>\n",
       "      <td>2011</td>\n",
       "      <td>1000 US$</td>\n",
       "      <td>2.69</td>\n",
       "      <td>R</td>\n",
       "    </tr>\n",
       "    <tr>\n",
       "      <td>4</td>\n",
       "      <td>2</td>\n",
       "      <td>Afghanistan</td>\n",
       "      <td>4007</td>\n",
       "      <td>Ammonia, anhydrous</td>\n",
       "      <td>5622</td>\n",
       "      <td>Import Value</td>\n",
       "      <td>2014</td>\n",
       "      <td>2014</td>\n",
       "      <td>1000 US$</td>\n",
       "      <td>1.07</td>\n",
       "      <td>R</td>\n",
       "    </tr>\n",
       "  </tbody>\n",
       "</table>\n",
       "</div>"
      ],
      "text/plain": [
       "   Area Code         Area  Item Code                Item  Element Code  \\\n",
       "0          2  Afghanistan       4007  Ammonia, anhydrous          5610   \n",
       "1          2  Afghanistan       4007  Ammonia, anhydrous          5610   \n",
       "2          2  Afghanistan       4007  Ammonia, anhydrous          5610   \n",
       "3          2  Afghanistan       4007  Ammonia, anhydrous          5622   \n",
       "4          2  Afghanistan       4007  Ammonia, anhydrous          5622   \n",
       "\n",
       "           Element  Year Code  Year      Unit  Value Flag  \n",
       "0  Import Quantity       2011  2011    tonnes   4.49    R  \n",
       "1  Import Quantity       2014  2014    tonnes   2.00    R  \n",
       "2  Import Quantity       2017  2017    tonnes   2.07    R  \n",
       "3     Import Value       2011  2011  1000 US$   2.69    R  \n",
       "4     Import Value       2014  2014  1000 US$   1.07    R  "
      ]
     },
     "execution_count": 3,
     "metadata": {},
     "output_type": "execute_result"
    }
   ],
   "source": [
    "p.head()"
   ]
  },
  {
   "cell_type": "code",
   "execution_count": 4,
   "metadata": {},
   "outputs": [
    {
     "data": {
      "text/plain": [
       "Index(['Area Code', 'Area', 'Item Code', 'Item', 'Element Code', 'Element',\n",
       "       'Year Code', 'Year', 'Unit', 'Value', 'Flag'],\n",
       "      dtype='object')"
      ]
     },
     "execution_count": 4,
     "metadata": {},
     "output_type": "execute_result"
    }
   ],
   "source": [
    "p.columns"
   ]
  },
  {
   "cell_type": "code",
   "execution_count": 5,
   "metadata": {},
   "outputs": [
    {
     "data": {
      "text/plain": [
       "array(['Afghanistan', 'Albania', 'Algeria', 'Angola',\n",
       "       'Antigua and Barbuda', 'Argentina', 'Armenia', 'Australia',\n",
       "       'Austria', 'Azerbaijan', 'Bahamas', 'Bahrain', 'Bangladesh',\n",
       "       'Barbados', 'Belarus', 'Belgium', 'Belize', 'Benin', 'Bermuda',\n",
       "       'Bhutan', 'Bolivia (Plurinational State of)',\n",
       "       'Bosnia and Herzegovina', 'Botswana', 'Brazil',\n",
       "       'Brunei Darussalam', 'Bulgaria', 'Burkina Faso', 'Burundi',\n",
       "       'Cambodia', 'Cameroon', 'Canada', 'Central African Republic',\n",
       "       'Chile', 'China, Hong Kong SAR', 'China, Macao SAR',\n",
       "       'China, mainland', 'China, Taiwan Province of', 'Colombia',\n",
       "       'Congo', 'Cook Islands', 'Costa Rica', \"Côte d'Ivoire\", 'Croatia',\n",
       "       'Cuba', 'Cyprus', 'Czechia', 'Democratic Republic of the Congo',\n",
       "       'Denmark', 'Dominica', 'Dominican Republic', 'Ecuador', 'Egypt',\n",
       "       'El Salvador', 'Eritrea', 'Estonia', 'Ethiopia', 'Fiji', 'Finland',\n",
       "       'France', 'French Polynesia', 'Gabon', 'Gambia', 'Georgia',\n",
       "       'Germany', 'Ghana', 'Greece', 'Guatemala', 'Guinea', 'Guyana',\n",
       "       'Honduras', 'Hungary', 'Iceland', 'India', 'Indonesia',\n",
       "       'Iran (Islamic Republic of)', 'Iraq', 'Ireland', 'Israel', 'Italy',\n",
       "       'Jamaica', 'Japan', 'Jordan', 'Kazakhstan', 'Kenya', 'Kuwait',\n",
       "       'Kyrgyzstan', 'Latvia', 'Lebanon', 'Libya', 'Lithuania',\n",
       "       'Luxembourg', 'Madagascar', 'Malawi', 'Malaysia', 'Maldives',\n",
       "       'Mali', 'Malta', 'Marshall Islands', 'Mauritius', 'Mexico',\n",
       "       'Mongolia', 'Montenegro', 'Morocco', 'Mozambique', 'Myanmar',\n",
       "       'Namibia', 'Nauru', 'Nepal', 'Netherlands', 'New Caledonia',\n",
       "       'New Zealand', 'Nicaragua', 'Niger', 'Nigeria', 'North Macedonia',\n",
       "       'Norway', 'Oman', 'Pakistan', 'Panama', 'Papua New Guinea',\n",
       "       'Paraguay', 'Peru', 'Philippines', 'Poland', 'Portugal', 'Qatar',\n",
       "       'Republic of Korea', 'Republic of Moldova', 'Romania',\n",
       "       'Russian Federation', 'Rwanda', 'Saint Kitts and Nevis',\n",
       "       'Saint Lucia', 'Samoa', 'Saudi Arabia', 'Senegal', 'Serbia',\n",
       "       'Serbia and Montenegro', 'Seychelles', 'Singapore', 'Slovakia',\n",
       "       'Slovenia', 'South Africa', 'Spain', 'Sri Lanka', 'Sudan',\n",
       "       'Sudan (former)', 'Suriname', 'Sweden', 'Switzerland',\n",
       "       'Syrian Arab Republic', 'Tajikistan', 'Thailand', 'Togo', 'Tonga',\n",
       "       'Trinidad and Tobago', 'Tunisia', 'Turkey', 'Uganda', 'Ukraine',\n",
       "       'United Arab Emirates', 'United Kingdom',\n",
       "       'United Republic of Tanzania', 'United States of America',\n",
       "       'Uruguay', 'Uzbekistan', 'Venezuela (Bolivarian Republic of)',\n",
       "       'Viet Nam', 'Yemen', 'Zambia', 'Zimbabwe'], dtype=object)"
      ]
     },
     "execution_count": 5,
     "metadata": {},
     "output_type": "execute_result"
    }
   ],
   "source": [
    "p.Area.unique()"
   ]
  },
  {
   "cell_type": "code",
   "execution_count": 6,
   "metadata": {},
   "outputs": [
    {
     "data": {
      "text/plain": [
       "Area Code       0\n",
       "Area            0\n",
       "Item Code       0\n",
       "Item            0\n",
       "Element Code    0\n",
       "Element         0\n",
       "Year Code       0\n",
       "Year            0\n",
       "Unit            0\n",
       "Value           0\n",
       "Flag            0\n",
       "dtype: int64"
      ]
     },
     "execution_count": 6,
     "metadata": {},
     "output_type": "execute_result"
    }
   ],
   "source": [
    "p.isna().sum()"
   ]
  },
  {
   "cell_type": "code",
   "execution_count": 7,
   "metadata": {},
   "outputs": [
    {
     "data": {
      "text/html": [
       "<div>\n",
       "<style scoped>\n",
       "    .dataframe tbody tr th:only-of-type {\n",
       "        vertical-align: middle;\n",
       "    }\n",
       "\n",
       "    .dataframe tbody tr th {\n",
       "        vertical-align: top;\n",
       "    }\n",
       "\n",
       "    .dataframe thead th {\n",
       "        text-align: right;\n",
       "    }\n",
       "</style>\n",
       "<table border=\"1\" class=\"dataframe\">\n",
       "  <thead>\n",
       "    <tr style=\"text-align: right;\">\n",
       "      <th></th>\n",
       "      <th>Area Code</th>\n",
       "      <th>Area</th>\n",
       "      <th>Item Code</th>\n",
       "      <th>Item</th>\n",
       "      <th>Element Code</th>\n",
       "      <th>Element</th>\n",
       "      <th>Year Code</th>\n",
       "      <th>Year</th>\n",
       "      <th>Unit</th>\n",
       "      <th>Value</th>\n",
       "      <th>Flag</th>\n",
       "    </tr>\n",
       "  </thead>\n",
       "  <tbody>\n",
       "    <tr>\n",
       "      <td>0</td>\n",
       "      <td>False</td>\n",
       "      <td>False</td>\n",
       "      <td>False</td>\n",
       "      <td>False</td>\n",
       "      <td>False</td>\n",
       "      <td>False</td>\n",
       "      <td>False</td>\n",
       "      <td>False</td>\n",
       "      <td>False</td>\n",
       "      <td>False</td>\n",
       "      <td>False</td>\n",
       "    </tr>\n",
       "    <tr>\n",
       "      <td>1</td>\n",
       "      <td>False</td>\n",
       "      <td>False</td>\n",
       "      <td>False</td>\n",
       "      <td>False</td>\n",
       "      <td>False</td>\n",
       "      <td>False</td>\n",
       "      <td>False</td>\n",
       "      <td>False</td>\n",
       "      <td>False</td>\n",
       "      <td>False</td>\n",
       "      <td>False</td>\n",
       "    </tr>\n",
       "    <tr>\n",
       "      <td>2</td>\n",
       "      <td>False</td>\n",
       "      <td>False</td>\n",
       "      <td>False</td>\n",
       "      <td>False</td>\n",
       "      <td>False</td>\n",
       "      <td>False</td>\n",
       "      <td>False</td>\n",
       "      <td>False</td>\n",
       "      <td>False</td>\n",
       "      <td>False</td>\n",
       "      <td>False</td>\n",
       "    </tr>\n",
       "    <tr>\n",
       "      <td>3</td>\n",
       "      <td>False</td>\n",
       "      <td>False</td>\n",
       "      <td>False</td>\n",
       "      <td>False</td>\n",
       "      <td>False</td>\n",
       "      <td>False</td>\n",
       "      <td>False</td>\n",
       "      <td>False</td>\n",
       "      <td>False</td>\n",
       "      <td>False</td>\n",
       "      <td>False</td>\n",
       "    </tr>\n",
       "    <tr>\n",
       "      <td>4</td>\n",
       "      <td>False</td>\n",
       "      <td>False</td>\n",
       "      <td>False</td>\n",
       "      <td>False</td>\n",
       "      <td>False</td>\n",
       "      <td>False</td>\n",
       "      <td>False</td>\n",
       "      <td>False</td>\n",
       "      <td>False</td>\n",
       "      <td>False</td>\n",
       "      <td>False</td>\n",
       "    </tr>\n",
       "    <tr>\n",
       "      <td>...</td>\n",
       "      <td>...</td>\n",
       "      <td>...</td>\n",
       "      <td>...</td>\n",
       "      <td>...</td>\n",
       "      <td>...</td>\n",
       "      <td>...</td>\n",
       "      <td>...</td>\n",
       "      <td>...</td>\n",
       "      <td>...</td>\n",
       "      <td>...</td>\n",
       "      <td>...</td>\n",
       "    </tr>\n",
       "    <tr>\n",
       "      <td>164463</td>\n",
       "      <td>False</td>\n",
       "      <td>False</td>\n",
       "      <td>False</td>\n",
       "      <td>False</td>\n",
       "      <td>False</td>\n",
       "      <td>False</td>\n",
       "      <td>False</td>\n",
       "      <td>False</td>\n",
       "      <td>False</td>\n",
       "      <td>False</td>\n",
       "      <td>False</td>\n",
       "    </tr>\n",
       "    <tr>\n",
       "      <td>164464</td>\n",
       "      <td>False</td>\n",
       "      <td>False</td>\n",
       "      <td>False</td>\n",
       "      <td>False</td>\n",
       "      <td>False</td>\n",
       "      <td>False</td>\n",
       "      <td>False</td>\n",
       "      <td>False</td>\n",
       "      <td>False</td>\n",
       "      <td>False</td>\n",
       "      <td>False</td>\n",
       "    </tr>\n",
       "    <tr>\n",
       "      <td>164465</td>\n",
       "      <td>False</td>\n",
       "      <td>False</td>\n",
       "      <td>False</td>\n",
       "      <td>False</td>\n",
       "      <td>False</td>\n",
       "      <td>False</td>\n",
       "      <td>False</td>\n",
       "      <td>False</td>\n",
       "      <td>False</td>\n",
       "      <td>False</td>\n",
       "      <td>False</td>\n",
       "    </tr>\n",
       "    <tr>\n",
       "      <td>164466</td>\n",
       "      <td>False</td>\n",
       "      <td>False</td>\n",
       "      <td>False</td>\n",
       "      <td>False</td>\n",
       "      <td>False</td>\n",
       "      <td>False</td>\n",
       "      <td>False</td>\n",
       "      <td>False</td>\n",
       "      <td>False</td>\n",
       "      <td>False</td>\n",
       "      <td>False</td>\n",
       "    </tr>\n",
       "    <tr>\n",
       "      <td>164467</td>\n",
       "      <td>False</td>\n",
       "      <td>False</td>\n",
       "      <td>False</td>\n",
       "      <td>False</td>\n",
       "      <td>False</td>\n",
       "      <td>False</td>\n",
       "      <td>False</td>\n",
       "      <td>False</td>\n",
       "      <td>False</td>\n",
       "      <td>False</td>\n",
       "      <td>False</td>\n",
       "    </tr>\n",
       "  </tbody>\n",
       "</table>\n",
       "<p>164468 rows × 11 columns</p>\n",
       "</div>"
      ],
      "text/plain": [
       "        Area Code   Area  Item Code   Item  Element Code  Element  Year Code  \\\n",
       "0           False  False      False  False         False    False      False   \n",
       "1           False  False      False  False         False    False      False   \n",
       "2           False  False      False  False         False    False      False   \n",
       "3           False  False      False  False         False    False      False   \n",
       "4           False  False      False  False         False    False      False   \n",
       "...           ...    ...        ...    ...           ...      ...        ...   \n",
       "164463      False  False      False  False         False    False      False   \n",
       "164464      False  False      False  False         False    False      False   \n",
       "164465      False  False      False  False         False    False      False   \n",
       "164466      False  False      False  False         False    False      False   \n",
       "164467      False  False      False  False         False    False      False   \n",
       "\n",
       "         Year   Unit  Value   Flag  \n",
       "0       False  False  False  False  \n",
       "1       False  False  False  False  \n",
       "2       False  False  False  False  \n",
       "3       False  False  False  False  \n",
       "4       False  False  False  False  \n",
       "...       ...    ...    ...    ...  \n",
       "164463  False  False  False  False  \n",
       "164464  False  False  False  False  \n",
       "164465  False  False  False  False  \n",
       "164466  False  False  False  False  \n",
       "164467  False  False  False  False  \n",
       "\n",
       "[164468 rows x 11 columns]"
      ]
     },
     "execution_count": 7,
     "metadata": {},
     "output_type": "execute_result"
    }
   ],
   "source": [
    "p.isna()"
   ]
  },
  {
   "cell_type": "code",
   "execution_count": 8,
   "metadata": {},
   "outputs": [
    {
     "data": {
      "text/plain": [
       "(164468, 11)"
      ]
     },
     "execution_count": 8,
     "metadata": {},
     "output_type": "execute_result"
    }
   ],
   "source": [
    "p.shape"
   ]
  },
  {
   "cell_type": "code",
   "execution_count": 9,
   "metadata": {},
   "outputs": [
    {
     "data": {
      "text/plain": [
       "array(['Ammonia, anhydrous', 'Ammonium nitrate (AN)', 'Ammonium sulphate',\n",
       "       'Calcium ammonium nitrate (CAN) and other mixtures with calcium carbonate',\n",
       "       'Diammonium phosphate (DAP)', 'Fertilizers n.e.c.',\n",
       "       'Monoammonium phosphate (MAP)', 'NPK fertilizers',\n",
       "       'Other nitrogenous fertilizers, n.e.c.', 'Other NP compounds',\n",
       "       'Other phosphatic fertilizers, n.e.c.',\n",
       "       'Other potassic fertilizers, n.e.c.', 'Phosphate rock',\n",
       "       'PK compounds', 'Potassium chloride (muriate of potash) (MOP)',\n",
       "       'Potassium nitrate',\n",
       "       'Potassium sulphate (sulphate of potash) (SOP)', 'Sodium nitrate',\n",
       "       'Superphosphates above 35%', 'Urea',\n",
       "       'Urea and ammonium nitrate solutions (UAN)', 'Other NK compounds',\n",
       "       'Superphosphates, other'], dtype=object)"
      ]
     },
     "execution_count": 9,
     "metadata": {},
     "output_type": "execute_result"
    }
   ],
   "source": [
    "p.Item.unique()"
   ]
  },
  {
   "cell_type": "markdown",
   "metadata": {},
   "source": [
    "### Filtering the area to India"
   ]
  },
  {
   "cell_type": "code",
   "execution_count": 11,
   "metadata": {},
   "outputs": [],
   "source": [
    "f=p.loc[p[\"Area\"]==\"India\"]"
   ]
  },
  {
   "cell_type": "code",
   "execution_count": 12,
   "metadata": {},
   "outputs": [
    {
     "data": {
      "text/html": [
       "<div>\n",
       "<style scoped>\n",
       "    .dataframe tbody tr th:only-of-type {\n",
       "        vertical-align: middle;\n",
       "    }\n",
       "\n",
       "    .dataframe tbody tr th {\n",
       "        vertical-align: top;\n",
       "    }\n",
       "\n",
       "    .dataframe thead th {\n",
       "        text-align: right;\n",
       "    }\n",
       "</style>\n",
       "<table border=\"1\" class=\"dataframe\">\n",
       "  <thead>\n",
       "    <tr style=\"text-align: right;\">\n",
       "      <th></th>\n",
       "      <th>Area Code</th>\n",
       "      <th>Area</th>\n",
       "      <th>Item Code</th>\n",
       "      <th>Item</th>\n",
       "      <th>Element Code</th>\n",
       "      <th>Element</th>\n",
       "      <th>Year Code</th>\n",
       "      <th>Year</th>\n",
       "      <th>Unit</th>\n",
       "      <th>Value</th>\n",
       "      <th>Flag</th>\n",
       "    </tr>\n",
       "  </thead>\n",
       "  <tbody>\n",
       "    <tr>\n",
       "      <td>65372</td>\n",
       "      <td>100</td>\n",
       "      <td>India</td>\n",
       "      <td>4007</td>\n",
       "      <td>Ammonia, anhydrous</td>\n",
       "      <td>5610</td>\n",
       "      <td>Import Quantity</td>\n",
       "      <td>2002</td>\n",
       "      <td>2002</td>\n",
       "      <td>tonnes</td>\n",
       "      <td>1279348.13</td>\n",
       "      <td>Qm</td>\n",
       "    </tr>\n",
       "    <tr>\n",
       "      <td>65373</td>\n",
       "      <td>100</td>\n",
       "      <td>India</td>\n",
       "      <td>4007</td>\n",
       "      <td>Ammonia, anhydrous</td>\n",
       "      <td>5610</td>\n",
       "      <td>Import Quantity</td>\n",
       "      <td>2003</td>\n",
       "      <td>2003</td>\n",
       "      <td>tonnes</td>\n",
       "      <td>979985.94</td>\n",
       "      <td>Qm</td>\n",
       "    </tr>\n",
       "    <tr>\n",
       "      <td>65374</td>\n",
       "      <td>100</td>\n",
       "      <td>India</td>\n",
       "      <td>4007</td>\n",
       "      <td>Ammonia, anhydrous</td>\n",
       "      <td>5610</td>\n",
       "      <td>Import Quantity</td>\n",
       "      <td>2004</td>\n",
       "      <td>2004</td>\n",
       "      <td>tonnes</td>\n",
       "      <td>1189895.82</td>\n",
       "      <td>Qm</td>\n",
       "    </tr>\n",
       "    <tr>\n",
       "      <td>65375</td>\n",
       "      <td>100</td>\n",
       "      <td>India</td>\n",
       "      <td>4007</td>\n",
       "      <td>Ammonia, anhydrous</td>\n",
       "      <td>5610</td>\n",
       "      <td>Import Quantity</td>\n",
       "      <td>2005</td>\n",
       "      <td>2005</td>\n",
       "      <td>tonnes</td>\n",
       "      <td>1731417.05</td>\n",
       "      <td>Qm</td>\n",
       "    </tr>\n",
       "    <tr>\n",
       "      <td>65376</td>\n",
       "      <td>100</td>\n",
       "      <td>India</td>\n",
       "      <td>4007</td>\n",
       "      <td>Ammonia, anhydrous</td>\n",
       "      <td>5610</td>\n",
       "      <td>Import Quantity</td>\n",
       "      <td>2006</td>\n",
       "      <td>2006</td>\n",
       "      <td>tonnes</td>\n",
       "      <td>1781431.57</td>\n",
       "      <td>Qm</td>\n",
       "    </tr>\n",
       "    <tr>\n",
       "      <td>...</td>\n",
       "      <td>...</td>\n",
       "      <td>...</td>\n",
       "      <td>...</td>\n",
       "      <td>...</td>\n",
       "      <td>...</td>\n",
       "      <td>...</td>\n",
       "      <td>...</td>\n",
       "      <td>...</td>\n",
       "      <td>...</td>\n",
       "      <td>...</td>\n",
       "      <td>...</td>\n",
       "    </tr>\n",
       "    <tr>\n",
       "      <td>66881</td>\n",
       "      <td>100</td>\n",
       "      <td>India</td>\n",
       "      <td>4006</td>\n",
       "      <td>Urea and ammonium nitrate solutions (UAN)</td>\n",
       "      <td>5922</td>\n",
       "      <td>Export Value</td>\n",
       "      <td>2007</td>\n",
       "      <td>2007</td>\n",
       "      <td>1000 US$</td>\n",
       "      <td>0.19</td>\n",
       "      <td>Qm</td>\n",
       "    </tr>\n",
       "    <tr>\n",
       "      <td>66882</td>\n",
       "      <td>100</td>\n",
       "      <td>India</td>\n",
       "      <td>4006</td>\n",
       "      <td>Urea and ammonium nitrate solutions (UAN)</td>\n",
       "      <td>5922</td>\n",
       "      <td>Export Value</td>\n",
       "      <td>2011</td>\n",
       "      <td>2011</td>\n",
       "      <td>1000 US$</td>\n",
       "      <td>0.03</td>\n",
       "      <td>Qm</td>\n",
       "    </tr>\n",
       "    <tr>\n",
       "      <td>66883</td>\n",
       "      <td>100</td>\n",
       "      <td>India</td>\n",
       "      <td>4006</td>\n",
       "      <td>Urea and ammonium nitrate solutions (UAN)</td>\n",
       "      <td>5922</td>\n",
       "      <td>Export Value</td>\n",
       "      <td>2013</td>\n",
       "      <td>2013</td>\n",
       "      <td>1000 US$</td>\n",
       "      <td>2.39</td>\n",
       "      <td>Qm</td>\n",
       "    </tr>\n",
       "    <tr>\n",
       "      <td>66884</td>\n",
       "      <td>100</td>\n",
       "      <td>India</td>\n",
       "      <td>4006</td>\n",
       "      <td>Urea and ammonium nitrate solutions (UAN)</td>\n",
       "      <td>5922</td>\n",
       "      <td>Export Value</td>\n",
       "      <td>2015</td>\n",
       "      <td>2015</td>\n",
       "      <td>1000 US$</td>\n",
       "      <td>0.00</td>\n",
       "      <td>Qm</td>\n",
       "    </tr>\n",
       "    <tr>\n",
       "      <td>66885</td>\n",
       "      <td>100</td>\n",
       "      <td>India</td>\n",
       "      <td>4006</td>\n",
       "      <td>Urea and ammonium nitrate solutions (UAN)</td>\n",
       "      <td>5922</td>\n",
       "      <td>Export Value</td>\n",
       "      <td>2017</td>\n",
       "      <td>2017</td>\n",
       "      <td>1000 US$</td>\n",
       "      <td>810.10</td>\n",
       "      <td>Qm</td>\n",
       "    </tr>\n",
       "  </tbody>\n",
       "</table>\n",
       "<p>1514 rows × 11 columns</p>\n",
       "</div>"
      ],
      "text/plain": [
       "       Area Code   Area  Item Code                                       Item  \\\n",
       "65372        100  India       4007                         Ammonia, anhydrous   \n",
       "65373        100  India       4007                         Ammonia, anhydrous   \n",
       "65374        100  India       4007                         Ammonia, anhydrous   \n",
       "65375        100  India       4007                         Ammonia, anhydrous   \n",
       "65376        100  India       4007                         Ammonia, anhydrous   \n",
       "...          ...    ...        ...                                        ...   \n",
       "66881        100  India       4006  Urea and ammonium nitrate solutions (UAN)   \n",
       "66882        100  India       4006  Urea and ammonium nitrate solutions (UAN)   \n",
       "66883        100  India       4006  Urea and ammonium nitrate solutions (UAN)   \n",
       "66884        100  India       4006  Urea and ammonium nitrate solutions (UAN)   \n",
       "66885        100  India       4006  Urea and ammonium nitrate solutions (UAN)   \n",
       "\n",
       "       Element Code          Element  Year Code  Year      Unit       Value  \\\n",
       "65372          5610  Import Quantity       2002  2002    tonnes  1279348.13   \n",
       "65373          5610  Import Quantity       2003  2003    tonnes   979985.94   \n",
       "65374          5610  Import Quantity       2004  2004    tonnes  1189895.82   \n",
       "65375          5610  Import Quantity       2005  2005    tonnes  1731417.05   \n",
       "65376          5610  Import Quantity       2006  2006    tonnes  1781431.57   \n",
       "...             ...              ...        ...   ...       ...         ...   \n",
       "66881          5922     Export Value       2007  2007  1000 US$        0.19   \n",
       "66882          5922     Export Value       2011  2011  1000 US$        0.03   \n",
       "66883          5922     Export Value       2013  2013  1000 US$        2.39   \n",
       "66884          5922     Export Value       2015  2015  1000 US$        0.00   \n",
       "66885          5922     Export Value       2017  2017  1000 US$      810.10   \n",
       "\n",
       "      Flag  \n",
       "65372   Qm  \n",
       "65373   Qm  \n",
       "65374   Qm  \n",
       "65375   Qm  \n",
       "65376   Qm  \n",
       "...    ...  \n",
       "66881   Qm  \n",
       "66882   Qm  \n",
       "66883   Qm  \n",
       "66884   Qm  \n",
       "66885   Qm  \n",
       "\n",
       "[1514 rows x 11 columns]"
      ]
     },
     "execution_count": 12,
     "metadata": {},
     "output_type": "execute_result"
    }
   ],
   "source": [
    "f"
   ]
  },
  {
   "cell_type": "code",
   "execution_count": 13,
   "metadata": {},
   "outputs": [
    {
     "data": {
      "text/plain": [
       "array(['Ammonia, anhydrous', 'Ammonium nitrate (AN)', 'Ammonium sulphate',\n",
       "       'Calcium ammonium nitrate (CAN) and other mixtures with calcium carbonate',\n",
       "       'Diammonium phosphate (DAP)', 'Fertilizers n.e.c.',\n",
       "       'Monoammonium phosphate (MAP)', 'NPK fertilizers',\n",
       "       'Other nitrogenous fertilizers, n.e.c.', 'Other NP compounds',\n",
       "       'Other phosphatic fertilizers, n.e.c.',\n",
       "       'Other potassic fertilizers, n.e.c.', 'Phosphate rock',\n",
       "       'PK compounds', 'Potassium chloride (muriate of potash) (MOP)',\n",
       "       'Potassium nitrate',\n",
       "       'Potassium sulphate (sulphate of potash) (SOP)', 'Sodium nitrate',\n",
       "       'Superphosphates above 35%', 'Superphosphates, other', 'Urea',\n",
       "       'Urea and ammonium nitrate solutions (UAN)'], dtype=object)"
      ]
     },
     "execution_count": 13,
     "metadata": {},
     "output_type": "execute_result"
    }
   ],
   "source": [
    "f.Item.unique()"
   ]
  },
  {
   "cell_type": "code",
   "execution_count": 14,
   "metadata": {},
   "outputs": [
    {
     "data": {
      "text/html": [
       "<div>\n",
       "<style scoped>\n",
       "    .dataframe tbody tr th:only-of-type {\n",
       "        vertical-align: middle;\n",
       "    }\n",
       "\n",
       "    .dataframe tbody tr th {\n",
       "        vertical-align: top;\n",
       "    }\n",
       "\n",
       "    .dataframe thead th {\n",
       "        text-align: right;\n",
       "    }\n",
       "</style>\n",
       "<table border=\"1\" class=\"dataframe\">\n",
       "  <thead>\n",
       "    <tr style=\"text-align: right;\">\n",
       "      <th></th>\n",
       "      <th>Area Code</th>\n",
       "      <th>Area</th>\n",
       "      <th>Item Code</th>\n",
       "      <th>Item</th>\n",
       "      <th>Element Code</th>\n",
       "      <th>Element</th>\n",
       "      <th>Year Code</th>\n",
       "      <th>Year</th>\n",
       "      <th>Unit</th>\n",
       "      <th>Value</th>\n",
       "      <th>Flag</th>\n",
       "    </tr>\n",
       "  </thead>\n",
       "  <tbody>\n",
       "    <tr>\n",
       "      <td>66764</td>\n",
       "      <td>100</td>\n",
       "      <td>India</td>\n",
       "      <td>4001</td>\n",
       "      <td>Urea</td>\n",
       "      <td>5510</td>\n",
       "      <td>Production</td>\n",
       "      <td>2002</td>\n",
       "      <td>2002</td>\n",
       "      <td>tonnes</td>\n",
       "      <td>18621200.0</td>\n",
       "      <td>Qm</td>\n",
       "    </tr>\n",
       "    <tr>\n",
       "      <td>66765</td>\n",
       "      <td>100</td>\n",
       "      <td>India</td>\n",
       "      <td>4001</td>\n",
       "      <td>Urea</td>\n",
       "      <td>5510</td>\n",
       "      <td>Production</td>\n",
       "      <td>2003</td>\n",
       "      <td>2003</td>\n",
       "      <td>tonnes</td>\n",
       "      <td>19038300.0</td>\n",
       "      <td>Qm</td>\n",
       "    </tr>\n",
       "    <tr>\n",
       "      <td>66766</td>\n",
       "      <td>100</td>\n",
       "      <td>India</td>\n",
       "      <td>4001</td>\n",
       "      <td>Urea</td>\n",
       "      <td>5510</td>\n",
       "      <td>Production</td>\n",
       "      <td>2004</td>\n",
       "      <td>2004</td>\n",
       "      <td>tonnes</td>\n",
       "      <td>20239200.0</td>\n",
       "      <td>Qm</td>\n",
       "    </tr>\n",
       "    <tr>\n",
       "      <td>66767</td>\n",
       "      <td>100</td>\n",
       "      <td>India</td>\n",
       "      <td>4001</td>\n",
       "      <td>Urea</td>\n",
       "      <td>5510</td>\n",
       "      <td>Production</td>\n",
       "      <td>2005</td>\n",
       "      <td>2005</td>\n",
       "      <td>tonnes</td>\n",
       "      <td>20085100.0</td>\n",
       "      <td>Qm</td>\n",
       "    </tr>\n",
       "    <tr>\n",
       "      <td>66768</td>\n",
       "      <td>100</td>\n",
       "      <td>India</td>\n",
       "      <td>4001</td>\n",
       "      <td>Urea</td>\n",
       "      <td>5510</td>\n",
       "      <td>Production</td>\n",
       "      <td>2006</td>\n",
       "      <td>2006</td>\n",
       "      <td>tonnes</td>\n",
       "      <td>20271200.0</td>\n",
       "      <td>Qm</td>\n",
       "    </tr>\n",
       "    <tr>\n",
       "      <td>...</td>\n",
       "      <td>...</td>\n",
       "      <td>...</td>\n",
       "      <td>...</td>\n",
       "      <td>...</td>\n",
       "      <td>...</td>\n",
       "      <td>...</td>\n",
       "      <td>...</td>\n",
       "      <td>...</td>\n",
       "      <td>...</td>\n",
       "      <td>...</td>\n",
       "      <td>...</td>\n",
       "    </tr>\n",
       "    <tr>\n",
       "      <td>66855</td>\n",
       "      <td>100</td>\n",
       "      <td>India</td>\n",
       "      <td>4001</td>\n",
       "      <td>Urea</td>\n",
       "      <td>5157</td>\n",
       "      <td>Agricultural Use</td>\n",
       "      <td>2013</td>\n",
       "      <td>2013</td>\n",
       "      <td>tonnes</td>\n",
       "      <td>30600480.0</td>\n",
       "      <td>W</td>\n",
       "    </tr>\n",
       "    <tr>\n",
       "      <td>66856</td>\n",
       "      <td>100</td>\n",
       "      <td>India</td>\n",
       "      <td>4001</td>\n",
       "      <td>Urea</td>\n",
       "      <td>5157</td>\n",
       "      <td>Agricultural Use</td>\n",
       "      <td>2014</td>\n",
       "      <td>2014</td>\n",
       "      <td>tonnes</td>\n",
       "      <td>30610000.0</td>\n",
       "      <td>W</td>\n",
       "    </tr>\n",
       "    <tr>\n",
       "      <td>66857</td>\n",
       "      <td>100</td>\n",
       "      <td>India</td>\n",
       "      <td>4001</td>\n",
       "      <td>Urea</td>\n",
       "      <td>5157</td>\n",
       "      <td>Agricultural Use</td>\n",
       "      <td>2015</td>\n",
       "      <td>2015</td>\n",
       "      <td>tonnes</td>\n",
       "      <td>30634870.0</td>\n",
       "      <td>W</td>\n",
       "    </tr>\n",
       "    <tr>\n",
       "      <td>66858</td>\n",
       "      <td>100</td>\n",
       "      <td>India</td>\n",
       "      <td>4001</td>\n",
       "      <td>Urea</td>\n",
       "      <td>5157</td>\n",
       "      <td>Agricultural Use</td>\n",
       "      <td>2016</td>\n",
       "      <td>2016</td>\n",
       "      <td>tonnes</td>\n",
       "      <td>29613580.0</td>\n",
       "      <td>W</td>\n",
       "    </tr>\n",
       "    <tr>\n",
       "      <td>66859</td>\n",
       "      <td>100</td>\n",
       "      <td>India</td>\n",
       "      <td>4001</td>\n",
       "      <td>Urea</td>\n",
       "      <td>5157</td>\n",
       "      <td>Agricultural Use</td>\n",
       "      <td>2017</td>\n",
       "      <td>2017</td>\n",
       "      <td>tonnes</td>\n",
       "      <td>29894400.0</td>\n",
       "      <td>P</td>\n",
       "    </tr>\n",
       "  </tbody>\n",
       "</table>\n",
       "<p>96 rows × 11 columns</p>\n",
       "</div>"
      ],
      "text/plain": [
       "       Area Code   Area  Item Code  Item  Element Code           Element  \\\n",
       "66764        100  India       4001  Urea          5510        Production   \n",
       "66765        100  India       4001  Urea          5510        Production   \n",
       "66766        100  India       4001  Urea          5510        Production   \n",
       "66767        100  India       4001  Urea          5510        Production   \n",
       "66768        100  India       4001  Urea          5510        Production   \n",
       "...          ...    ...        ...   ...           ...               ...   \n",
       "66855        100  India       4001  Urea          5157  Agricultural Use   \n",
       "66856        100  India       4001  Urea          5157  Agricultural Use   \n",
       "66857        100  India       4001  Urea          5157  Agricultural Use   \n",
       "66858        100  India       4001  Urea          5157  Agricultural Use   \n",
       "66859        100  India       4001  Urea          5157  Agricultural Use   \n",
       "\n",
       "       Year Code  Year    Unit       Value Flag  \n",
       "66764       2002  2002  tonnes  18621200.0   Qm  \n",
       "66765       2003  2003  tonnes  19038300.0   Qm  \n",
       "66766       2004  2004  tonnes  20239200.0   Qm  \n",
       "66767       2005  2005  tonnes  20085100.0   Qm  \n",
       "66768       2006  2006  tonnes  20271200.0   Qm  \n",
       "...          ...   ...     ...         ...  ...  \n",
       "66855       2013  2013  tonnes  30600480.0    W  \n",
       "66856       2014  2014  tonnes  30610000.0    W  \n",
       "66857       2015  2015  tonnes  30634870.0    W  \n",
       "66858       2016  2016  tonnes  29613580.0    W  \n",
       "66859       2017  2017  tonnes  29894400.0    P  \n",
       "\n",
       "[96 rows x 11 columns]"
      ]
     },
     "execution_count": 14,
     "metadata": {},
     "output_type": "execute_result"
    }
   ],
   "source": [
    "u=f.loc[f['Item Code']==4001]\n",
    "u"
   ]
  },
  {
   "cell_type": "code",
   "execution_count": 15,
   "metadata": {},
   "outputs": [
    {
     "data": {
      "text/plain": [
       "array(['India'], dtype=object)"
      ]
     },
     "execution_count": 15,
     "metadata": {},
     "output_type": "execute_result"
    }
   ],
   "source": [
    "f.Area.unique()"
   ]
  },
  {
   "cell_type": "code",
   "execution_count": 16,
   "metadata": {},
   "outputs": [
    {
     "data": {
      "text/plain": [
       "array([4007, 4003, 4002, 4004, 4022, 4030, 4023, 4021, 4008, 4024, 4014,\n",
       "       4018, 4011, 4027, 4016, 4025, 4017, 4005, 4012, 4013, 4001, 4006],\n",
       "      dtype=int64)"
      ]
     },
     "execution_count": 16,
     "metadata": {},
     "output_type": "execute_result"
    }
   ],
   "source": [
    "f['Item Code'].unique()"
   ]
  },
  {
   "cell_type": "markdown",
   "metadata": {},
   "source": [
    "### Most used fertilizer in your country over the years\n",
    "#### Using Item_Code"
   ]
  },
  {
   "cell_type": "code",
   "execution_count": 17,
   "metadata": {},
   "outputs": [
    {
     "data": {
      "text/plain": [
       "65372    4007\n",
       "65373    4007\n",
       "65374    4007\n",
       "65375    4007\n",
       "65376    4007\n",
       "         ... \n",
       "66881    4006\n",
       "66882    4006\n",
       "66883    4006\n",
       "66884    4006\n",
       "66885    4006\n",
       "Name: Item Code, Length: 1514, dtype: int64"
      ]
     },
     "execution_count": 17,
     "metadata": {},
     "output_type": "execute_result"
    }
   ],
   "source": [
    "ind=f['Item Code']\n",
    "ind"
   ]
  },
  {
   "cell_type": "code",
   "execution_count": 18,
   "metadata": {},
   "outputs": [],
   "source": [
    "ind=list(ind)"
   ]
  },
  {
   "cell_type": "code",
   "execution_count": 19,
   "metadata": {},
   "outputs": [],
   "source": [
    "ind.sort()"
   ]
  },
  {
   "cell_type": "code",
   "execution_count": 20,
   "metadata": {},
   "outputs": [
    {
     "data": {
      "text/plain": [
       "1514"
      ]
     },
     "execution_count": 20,
     "metadata": {},
     "output_type": "execute_result"
    }
   ],
   "source": [
    "len(ind)"
   ]
  },
  {
   "cell_type": "code",
   "execution_count": 21,
   "metadata": {},
   "outputs": [
    {
     "name": "stdout",
     "output_type": "stream",
     "text": [
      "[(4001, 96), (4002, 94), (4003, 64), (4004, 69), (4005, 64), (4006, 26), (4007, 64), (4008, 64), (4011, 85), (4012, 56), (4013, 28), (4014, 62), (4016, 81), (4017, 83), (4018, 64), (4021, 86), (4022, 92), (4023, 73), (4024, 81), (4025, 64), (4027, 54), (4030, 64)]\n"
     ]
    }
   ],
   "source": [
    "def CountFrequency(ind):\n",
    "    freq = {}\n",
    "    l=[]\n",
    "    for item in ind:\n",
    "        if (item in freq):\n",
    "            freq[item] += 1\n",
    "        else:\n",
    "            freq[item] = 1\n",
    "    for i in freq.items():\n",
    "        l.append(i)\n",
    "    return l\n",
    "res=CountFrequency(ind)\n",
    "print(res)"
   ]
  },
  {
   "cell_type": "code",
   "execution_count": 22,
   "metadata": {},
   "outputs": [
    {
     "data": {
      "text/plain": [
       "array([4007, 4003, 4002, 4004, 4022, 4030, 4023, 4021, 4008, 4024, 4014,\n",
       "       4018, 4011, 4027, 4016, 4025, 4017, 4005, 4012, 4013, 4001, 4006],\n",
       "      dtype=int64)"
      ]
     },
     "execution_count": 22,
     "metadata": {},
     "output_type": "execute_result"
    }
   ],
   "source": [
    "f['Item Code'].unique()"
   ]
  },
  {
   "cell_type": "code",
   "execution_count": 23,
   "metadata": {},
   "outputs": [
    {
     "name": "stdout",
     "output_type": "stream",
     "text": [
      "22\n"
     ]
    }
   ],
   "source": [
    "print(len(res))"
   ]
  },
  {
   "cell_type": "code",
   "execution_count": 24,
   "metadata": {},
   "outputs": [
    {
     "name": "stdout",
     "output_type": "stream",
     "text": [
      "{4001: 96, 4002: 94, 4003: 64, 4004: 69, 4005: 64, 4006: 26, 4007: 64, 4008: 64, 4011: 85, 4012: 56, 4013: 28, 4014: 62, 4016: 81, 4017: 83, 4018: 64, 4021: 86, 4022: 92, 4023: 73, 4024: 81, 4025: 64, 4027: 54, 4030: 64}\n"
     ]
    }
   ],
   "source": [
    "def dicti(res,d):\n",
    "    d=dict(res)\n",
    "    return d\n",
    "d={}\n",
    "di=dicti(res,d)\n",
    "print(di)"
   ]
  },
  {
   "cell_type": "code",
   "execution_count": 25,
   "metadata": {},
   "outputs": [
    {
     "name": "stdout",
     "output_type": "stream",
     "text": [
      "{4001: 96, 4002: 94, 4003: 64, 4004: 69, 4005: 64, 4006: 26, 4007: 64, 4008: 64, 4011: 85, 4012: 56, 4013: 28, 4014: 62, 4016: 81, 4017: 83, 4018: 64, 4021: 86, 4022: 92, 4023: 73, 4024: 81, 4025: 64, 4027: 54, 4030: 64}\n"
     ]
    }
   ],
   "source": [
    "print(di)"
   ]
  },
  {
   "cell_type": "code",
   "execution_count": 26,
   "metadata": {},
   "outputs": [
    {
     "name": "stdout",
     "output_type": "stream",
     "text": [
      "4001\n"
     ]
    }
   ],
   "source": [
    "v = list(di.values()) \n",
    "k = list(di.keys())\n",
    "print(k[v.index(max(v))])"
   ]
  },
  {
   "cell_type": "code",
   "execution_count": 27,
   "metadata": {},
   "outputs": [],
   "source": [
    "### 4001 is the Item_Code for UREA which the most used fertilizer ### "
   ]
  },
  {
   "cell_type": "markdown",
   "metadata": {},
   "source": [
    "### Most used fertilizer in your country over the years\n",
    "#### Using Item_name"
   ]
  },
  {
   "cell_type": "code",
   "execution_count": 28,
   "metadata": {},
   "outputs": [
    {
     "data": {
      "text/plain": [
       "array(['Ammonia, anhydrous', 'Ammonium nitrate (AN)', 'Ammonium sulphate',\n",
       "       'Calcium ammonium nitrate (CAN) and other mixtures with calcium carbonate',\n",
       "       'Diammonium phosphate (DAP)', 'Fertilizers n.e.c.',\n",
       "       'Monoammonium phosphate (MAP)', 'NPK fertilizers',\n",
       "       'Other nitrogenous fertilizers, n.e.c.', 'Other NP compounds',\n",
       "       'Other phosphatic fertilizers, n.e.c.',\n",
       "       'Other potassic fertilizers, n.e.c.', 'Phosphate rock',\n",
       "       'PK compounds', 'Potassium chloride (muriate of potash) (MOP)',\n",
       "       'Potassium nitrate',\n",
       "       'Potassium sulphate (sulphate of potash) (SOP)', 'Sodium nitrate',\n",
       "       'Superphosphates above 35%', 'Superphosphates, other', 'Urea',\n",
       "       'Urea and ammonium nitrate solutions (UAN)'], dtype=object)"
      ]
     },
     "execution_count": 28,
     "metadata": {},
     "output_type": "execute_result"
    }
   ],
   "source": [
    "f.Item.unique()"
   ]
  },
  {
   "cell_type": "code",
   "execution_count": 29,
   "metadata": {},
   "outputs": [
    {
     "data": {
      "text/plain": [
       "65372                           Ammonia, anhydrous\n",
       "65373                           Ammonia, anhydrous\n",
       "65374                           Ammonia, anhydrous\n",
       "65375                           Ammonia, anhydrous\n",
       "65376                           Ammonia, anhydrous\n",
       "                           ...                    \n",
       "66881    Urea and ammonium nitrate solutions (UAN)\n",
       "66882    Urea and ammonium nitrate solutions (UAN)\n",
       "66883    Urea and ammonium nitrate solutions (UAN)\n",
       "66884    Urea and ammonium nitrate solutions (UAN)\n",
       "66885    Urea and ammonium nitrate solutions (UAN)\n",
       "Name: Item, Length: 1514, dtype: object"
      ]
     },
     "execution_count": 29,
     "metadata": {},
     "output_type": "execute_result"
    }
   ],
   "source": [
    "item=f['Item']\n",
    "item"
   ]
  },
  {
   "cell_type": "code",
   "execution_count": 30,
   "metadata": {},
   "outputs": [
    {
     "data": {
      "text/plain": [
       "1514"
      ]
     },
     "execution_count": 30,
     "metadata": {},
     "output_type": "execute_result"
    }
   ],
   "source": [
    "item=list(item)\n",
    "len(item)"
   ]
  },
  {
   "cell_type": "code",
   "execution_count": 31,
   "metadata": {},
   "outputs": [
    {
     "name": "stdout",
     "output_type": "stream",
     "text": [
      "[('Ammonia, anhydrous', 64), ('Ammonium nitrate (AN)', 64), ('Ammonium sulphate', 94), ('Calcium ammonium nitrate (CAN) and other mixtures with calcium carbonate', 69), ('Diammonium phosphate (DAP)', 92), ('Fertilizers n.e.c.', 64), ('Monoammonium phosphate (MAP)', 73), ('NPK fertilizers', 86), ('Other nitrogenous fertilizers, n.e.c.', 64), ('Other NP compounds', 81), ('Other phosphatic fertilizers, n.e.c.', 62), ('Other potassic fertilizers, n.e.c.', 64), ('Phosphate rock', 85), ('PK compounds', 54), ('Potassium chloride (muriate of potash) (MOP)', 81), ('Potassium nitrate', 64), ('Potassium sulphate (sulphate of potash) (SOP)', 83), ('Sodium nitrate', 64), ('Superphosphates above 35%', 56), ('Superphosphates, other', 28), ('Urea', 96), ('Urea and ammonium nitrate solutions (UAN)', 26)]\n"
     ]
    }
   ],
   "source": [
    "def CountFrequency(item):\n",
    "    freq = {}\n",
    "    l=[]\n",
    "    for i in item:\n",
    "        if (i in freq):\n",
    "            freq[i] += 1\n",
    "        else:\n",
    "            freq[i] = 1\n",
    "    for j in freq.items():\n",
    "        l.append(j)\n",
    "    return l\n",
    "itemfreq=CountFrequency(item)\n",
    "print(itemfreq)"
   ]
  },
  {
   "cell_type": "code",
   "execution_count": 32,
   "metadata": {},
   "outputs": [
    {
     "name": "stdout",
     "output_type": "stream",
     "text": [
      "{'Ammonia, anhydrous': 64, 'Ammonium nitrate (AN)': 64, 'Ammonium sulphate': 94, 'Calcium ammonium nitrate (CAN) and other mixtures with calcium carbonate': 69, 'Diammonium phosphate (DAP)': 92, 'Fertilizers n.e.c.': 64, 'Monoammonium phosphate (MAP)': 73, 'NPK fertilizers': 86, 'Other nitrogenous fertilizers, n.e.c.': 64, 'Other NP compounds': 81, 'Other phosphatic fertilizers, n.e.c.': 62, 'Other potassic fertilizers, n.e.c.': 64, 'Phosphate rock': 85, 'PK compounds': 54, 'Potassium chloride (muriate of potash) (MOP)': 81, 'Potassium nitrate': 64, 'Potassium sulphate (sulphate of potash) (SOP)': 83, 'Sodium nitrate': 64, 'Superphosphates above 35%': 56, 'Superphosphates, other': 28, 'Urea': 96, 'Urea and ammonium nitrate solutions (UAN)': 26}\n"
     ]
    }
   ],
   "source": [
    "def dicti(itemfreq,d):\n",
    "    d=dict(itemfreq)\n",
    "    return d\n",
    "d={}\n",
    "itemdi=dicti(itemfreq,d)\n",
    "print(itemdi)"
   ]
  },
  {
   "cell_type": "code",
   "execution_count": 33,
   "metadata": {},
   "outputs": [
    {
     "name": "stdout",
     "output_type": "stream",
     "text": [
      "Urea\n"
     ]
    }
   ],
   "source": [
    "a=list(itemdi.values()) \n",
    "b=list(itemdi.keys())\n",
    "print(b[a.index(max(a))])"
   ]
  },
  {
   "cell_type": "markdown",
   "metadata": {},
   "source": [
    "### Data Visualization"
   ]
  },
  {
   "cell_type": "code",
   "execution_count": 34,
   "metadata": {},
   "outputs": [],
   "source": [
    "import seaborn as sns\n",
    "import matplotlib.pyplot as plt\n",
    "%matplotlib inline"
   ]
  },
  {
   "cell_type": "code",
   "execution_count": 35,
   "metadata": {},
   "outputs": [
    {
     "data": {
      "text/plain": [
       "[]"
      ]
     },
     "execution_count": 35,
     "metadata": {},
     "output_type": "execute_result"
    },
    {
     "data": {
      "image/png": "[encoded data removed]",
      "text/plain": [
       "<Figure size 1080x576 with 1 Axes>"
      ]
     },
     "metadata": {
      "needs_background": "light"
     },
     "output_type": "display_data"
    }
   ],
   "source": [
    "plt.figure(figsize=(15,8))\n",
    "chart = sns.countplot(x = 'Item', data=f)\n",
    "chart.set_xticklabels(chart.get_xticklabels(), rotation=90, horizontalalignment='center')\n",
    "chart.plot()"
   ]
  },
  {
   "cell_type": "code",
   "execution_count": 37,
   "metadata": {},
   "outputs": [],
   "source": [
    "## Urea and Ammonium sulphate are two mostly used fertilizers in India."
   ]
  },
  {
   "cell_type": "code",
   "execution_count": 39,
   "metadata": {},
   "outputs": [
    {
     "data": {
      "text/plain": [
       "[]"
      ]
     },
     "execution_count": 39,
     "metadata": {},
     "output_type": "execute_result"
    },
    {
     "data": {
      "image/png": "[encoded data removed]",
      "text/plain": [
       "<Figure size 1080x576 with 1 Axes>"
      ]
     },
     "metadata": {
      "needs_background": "light"
     },
     "output_type": "display_data"
    }
   ],
   "source": [
    "plt.figure(figsize=(15,8))\n",
    "chart = sns.countplot(x = 'Item', data=f[f['Element']=='Agricultural Use'])\n",
    "chart.set_xticklabels(chart.get_xticklabels(), rotation=90, horizontalalignment='center')\n",
    "chart.plot()"
   ]
  },
  {
   "cell_type": "code",
   "execution_count": 40,
   "metadata": {},
   "outputs": [],
   "source": [
    "## India has been using Urea, Ammonium Sulphate, CAN, SOP fertilizers in higher amounts for agricultural use."
   ]
  },
  {
   "cell_type": "code",
   "execution_count": 41,
   "metadata": {},
   "outputs": [
    {
     "data": {
      "text/plain": [
       "[]"
      ]
     },
     "execution_count": 41,
     "metadata": {},
     "output_type": "execute_result"
    },
    {
     "data": {
      "image/png": "[encoded data removed]",
      "text/plain": [
       "<Figure size 720x432 with 1 Axes>"
      ]
     },
     "metadata": {
      "needs_background": "light"
     },
     "output_type": "display_data"
    }
   ],
   "source": [
    "plt.figure(figsize=(10,6))\n",
    "dat = f[f['Element']=='Production']\n",
    "chart = sns.countplot(x = 'Item', data=dat)\n",
    "chart.set_xticklabels(chart.get_xticklabels(), rotation=90, horizontalalignment='center')\n",
    "chart.plot()"
   ]
  },
  {
   "cell_type": "raw",
   "metadata": {},
   "source": [
    "India has been producing only 11 fertilizers."
   ]
  },
  {
   "cell_type": "code",
   "execution_count": 43,
   "metadata": {},
   "outputs": [
    {
     "data": {
      "text/plain": [
       "<matplotlib.axes._subplots.AxesSubplot at 0x20a73617588>"
      ]
     },
     "execution_count": 43,
     "metadata": {},
     "output_type": "execute_result"
    },
    {
     "data": {
      "image/png": "[encoded data removed]",
      "text/plain": [
       "<Figure size 720x432 with 1 Axes>"
      ]
     },
     "metadata": {
      "needs_background": "light"
     },
     "output_type": "display_data"
    }
   ],
   "source": [
    "plt.figure(figsize=(10,6))\n",
    "export_data = f[f['Element']=='Export Value']\n",
    "sns.lineplot(x = 'Year', y='Value', data=export_data)"
   ]
  },
  {
   "cell_type": "raw",
   "metadata": {},
   "source": [
    "India generated largest revenue around 8000 x 1000 US$ in 2009 year through exportation."
   ]
  },
  {
   "cell_type": "raw",
   "metadata": {},
   "source": [
    "chart = sns.barplot(x='Item',y='Value',data=export_data)\n",
    "chart.set_xticklabels(chart.get_xticklabels(), rotation=90, horizontalalignment='center')\n",
    "chart.plot()"
   ]
  },
  {
   "cell_type": "raw",
   "metadata": {},
   "source": [
    "'NPK fertilizers' has generated most of the revenues in India."
   ]
  }
 ],
 "metadata": {
  "kernelspec": {
   "display_name": "Python 3",
   "language": "python",
   "name": "python3"
  },
  "language_info": {
   "codemirror_mode": {
    "name": "ipython",
    "version": 3
   },
   "file_extension": ".py",
   "mimetype": "text/x-python",
   "name": "python",
   "nbconvert_exporter": "python",
   "pygments_lexer": "ipython3",
   "version": "3.7.4"
  }
 },
 "nbformat": 4,
 "nbformat_minor": 4
}
